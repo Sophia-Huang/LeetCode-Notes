{
 "cells": [
  {
   "cell_type": "markdown",
   "metadata": {},
   "source": [
    "# 力扣刷题-分治"
   ]
  },
  {
   "cell_type": "markdown",
   "metadata": {},
   "source": [
    "## 50. Pow(x, n)"
   ]
  },
  {
   "cell_type": "markdown",
   "metadata": {},
   "source": [
    "**问题描述**"
   ]
  },
  {
   "cell_type": "code",
   "execution_count": null,
   "metadata": {},
   "outputs": [],
   "source": [
    "实现 pow(x, n) ，即计算 x 的 n 次幂函数。\n",
    "\n",
    "示例 1:\n",
    "\n",
    "输入: 2.00000, 10\n",
    "输出: 1024.00000\n",
    "示例 2:\n",
    "\n",
    "输入: 2.10000, 3\n",
    "输出: 9.26100\n",
    "示例 3:\n",
    "\n",
    "输入: 2.00000, -2\n",
    "输出: 0.25000\n",
    "解释: 2-2 = 1/22 = 1/4 = 0.25\n",
    "说明:\n",
    "\n",
    "-100.0 < x < 100.0\n",
    "n 是 32 位有符号整数，其数值范围是 [−231, 231 − 1] 。\n",
    "\n",
    "链接：https://leetcode-cn.com/problems/powx-n"
   ]
  },
  {
   "cell_type": "markdown",
   "metadata": {},
   "source": [
    "**解题思路**"
   ]
  },
  {
   "cell_type": "markdown",
   "metadata": {},
   "source": [
    "**分治+递归**\n",
    "\n",
    "将 $x^{2n}$ 拆分成 $x^n*x^n$，处理边界条件。"
   ]
  },
  {
   "cell_type": "code",
   "execution_count": 18,
   "metadata": {},
   "outputs": [],
   "source": [
    "class Solution:\n",
    "    def myPow(self, x: float, n: int) -> float:\n",
    "        if n == 0:\n",
    "            return 1\n",
    "        \n",
    "        if n < 0:\n",
    "            return 1 / self.myPow(x, -n)\n",
    "        \n",
    "        if n % 2 == 1:\n",
    "            return x * self.myPow(x, n-1)\n",
    "        \n",
    "        half = self.myPow(x, n/2)\n",
    "        return half * half"
   ]
  },
  {
   "cell_type": "code",
   "execution_count": 20,
   "metadata": {},
   "outputs": [
    {
     "name": "stdout",
     "output_type": "stream",
     "text": [
      "1024.0\n"
     ]
    }
   ],
   "source": [
    "sol = Solution()\n",
    "print(sol.myPow(2.0, 10))"
   ]
  },
  {
   "cell_type": "markdown",
   "metadata": {},
   "source": [
    "## 53. 最大子序和"
   ]
  },
  {
   "cell_type": "markdown",
   "metadata": {},
   "source": [
    "**问题描述**"
   ]
  },
  {
   "cell_type": "code",
   "execution_count": null,
   "metadata": {},
   "outputs": [],
   "source": [
    "给定一个整数数组 nums ，找到一个具有最大和的连续子数组（子数组最少包含一个元素），返回其最大和。\n",
    "\n",
    "示例:\n",
    "\n",
    "输入: [-2,1,-3,4,-1,2,1,-5,4]\n",
    "输出: 6\n",
    "解释: 连续子数组 [4,-1,2,1] 的和最大，为 6。\n",
    "进阶:\n",
    "\n",
    "如果你已经实现复杂度为 O(n) 的解法，尝试使用更为精妙的分治法求解。\n",
    "\n",
    "链接：https://leetcode-cn.com/problems/maximum-subarray"
   ]
  },
  {
   "cell_type": "markdown",
   "metadata": {},
   "source": [
    "**解题思路**"
   ]
  },
  {
   "cell_type": "markdown",
   "metadata": {},
   "source": [
    "**1. 计算前序和**\n",
    "\n",
    "用 $f(i)$ 代表以第 $i$ 个数结尾的「连续子数组的最大和」，则\n",
    "\n",
    "$f(i) = \\max\\{f(i−1)+a_i, a_i\\}$\n",
    "\n",
    "我们需要的答案为：$\\max\\limits_{0 \\leq i \\leq n−1}\\{f(i)\\}$"
   ]
  },
  {
   "cell_type": "code",
   "execution_count": 14,
   "metadata": {},
   "outputs": [],
   "source": [
    "class Solution:\n",
    "    def maxSubArray(self, nums) -> int:\n",
    "        for i in range(1, len(nums)):\n",
    "            nums[i] = max(nums[i], nums[i] + nums[i-1])\n",
    "        return max(nums)"
   ]
  },
  {
   "cell_type": "code",
   "execution_count": 15,
   "metadata": {},
   "outputs": [
    {
     "name": "stdout",
     "output_type": "stream",
     "text": [
      "6\n"
     ]
    }
   ],
   "source": [
    "nums = [-2,1,-3,4,-1,2,1,-5,4]\n",
    "sol = Solution()\n",
    "print(sol.maxSubArray(nums))"
   ]
  },
  {
   "cell_type": "markdown",
   "metadata": {},
   "source": [
    "**2. 分治**\n",
    "\n",
    "将数组一分为二，分别获得左半区间和右半区间的最大子序和。\n",
    "\n",
    "整个数组的最大子序和一共包含三种情况：\n",
    "- 左半区间的最大子序和\n",
    "- 右半区间的最大子序和\n",
    "- 横跨两个区间的最大子序和\n",
    "\n",
    "其中第三种情况可以从中间向两侧分别计算连续最大子序和，再进行相加。\n",
    "\n",
    "最后返回三种情况中的较大值。"
   ]
  },
  {
   "cell_type": "code",
   "execution_count": 16,
   "metadata": {},
   "outputs": [],
   "source": [
    "class Solution:\n",
    "    def maxSubArray(self, nums) -> int:\n",
    "        if len(nums) == 1:\n",
    "            return nums[0]\n",
    "        \n",
    "        mid = len(nums) // 2\n",
    "        left = self.maxSubArray(nums[:mid])\n",
    "        right = self.maxSubArray(nums[mid:])\n",
    "\n",
    "        max_l = nums[mid-1]\n",
    "        tmp_l = 0\n",
    "        for i in range(mid-1, -1, -1):\n",
    "            tmp_l += nums[i]\n",
    "            max_l = max(tmp_l, max_l)\n",
    "        \n",
    "        max_r = nums[mid]\n",
    "        tmp_r = 0\n",
    "        for i in range(mid, len(nums)):\n",
    "            tmp_r += nums[i]\n",
    "            max_r = max(tmp_r, max_r)\n",
    "        \n",
    "        return max(left, right, max_l + max_r)"
   ]
  },
  {
   "cell_type": "code",
   "execution_count": 17,
   "metadata": {},
   "outputs": [
    {
     "name": "stdout",
     "output_type": "stream",
     "text": [
      "6\n"
     ]
    }
   ],
   "source": [
    "nums = [-2,1,-3,4,-1,2,1,-5,4]\n",
    "sol = Solution()\n",
    "print(sol.maxSubArray(nums))"
   ]
  },
  {
   "cell_type": "markdown",
   "metadata": {},
   "source": [
    "## 169. 多数元素"
   ]
  },
  {
   "cell_type": "markdown",
   "metadata": {},
   "source": [
    "**问题描述**"
   ]
  },
  {
   "cell_type": "code",
   "execution_count": null,
   "metadata": {},
   "outputs": [],
   "source": [
    "给定一个大小为 n 的数组，找到其中的多数元素。多数元素是指在数组中出现次数大于 ⌊ n/2 ⌋ 的元素。\n",
    "\n",
    "你可以假设数组是非空的，并且给定的数组总是存在多数元素。\n",
    "\n",
    "示例 1:\n",
    "\n",
    "输入: [3,2,3]\n",
    "输出: 3\n",
    "示例 2:\n",
    "\n",
    "输入: [2,2,1,1,1,2,2]\n",
    "输出: 2\n",
    "\n",
    "链接：https://leetcode-cn.com/problems/majority-element"
   ]
  },
  {
   "cell_type": "markdown",
   "metadata": {},
   "source": [
    "**解题思路**"
   ]
  },
  {
   "cell_type": "markdown",
   "metadata": {},
   "source": [
    "**1. 分治**\n",
    "\n",
    "将数组一分为二，分别获得左半区间和右半区间的多数众数。\n",
    "\n",
    "如果左右两段的众数相等，则该数就是整个数组的众数；若两者不等，则比较一下两个数在数组中的出现次数，返回出现次数高的那个。\n",
    "\n",
    "`这种方法求出来的其实是相对众数，而非绝对众数。`"
   ]
  },
  {
   "cell_type": "code",
   "execution_count": 3,
   "metadata": {},
   "outputs": [],
   "source": [
    "class Solution:\n",
    "    def majorityElement(self, nums) -> int:\n",
    "        if len(nums) == 0:\n",
    "            return None\n",
    "        elif len(nums) == 1:\n",
    "            return nums[0]\n",
    "        \n",
    "        left = self.majorityElement(nums[:len(nums) // 2])\n",
    "        right = self.majorityElement(nums[len(nums) // 2:])\n",
    "        if left == right:\n",
    "            return left\n",
    "        else:\n",
    "            return left if nums.count(left) > nums.count(right) else right"
   ]
  },
  {
   "cell_type": "code",
   "execution_count": 4,
   "metadata": {},
   "outputs": [
    {
     "name": "stdout",
     "output_type": "stream",
     "text": [
      "3\n"
     ]
    }
   ],
   "source": [
    "nums = [3, 3, 2]\n",
    "sol = Solution()\n",
    "print(sol.majorityElement(nums))"
   ]
  },
  {
   "cell_type": "markdown",
   "metadata": {},
   "source": [
    "**2. 字典**\n",
    "\n",
    "使用字典存储出现过的数字的次数，遍历整个数组，如果不在字典里，则添入字典，count赋为1，否则count加一。\n",
    "\n",
    "返回出现次数最高的数字。"
   ]
  },
  {
   "cell_type": "code",
   "execution_count": 9,
   "metadata": {},
   "outputs": [],
   "source": [
    "class Solution:\n",
    "    def majorityElement(self, nums) -> int:\n",
    "        count_dict = {}\n",
    "        for item in nums:\n",
    "            count_dict[item] = count_dict.get(item, 0) + 1\n",
    "        res = max(count_dict.keys(), key=lambda x: count_dict[x])\n",
    "        return res"
   ]
  },
  {
   "cell_type": "code",
   "execution_count": 10,
   "metadata": {},
   "outputs": [
    {
     "name": "stdout",
     "output_type": "stream",
     "text": [
      "3\n"
     ]
    }
   ],
   "source": [
    "nums = [3, 3, 2]\n",
    "sol = Solution()\n",
    "print(sol.majorityElement(nums))"
   ]
  }
 ],
 "metadata": {
  "kernelspec": {
   "display_name": "Python 3",
   "language": "python",
   "name": "python3"
  },
  "language_info": {
   "codemirror_mode": {
    "name": "ipython",
    "version": 3
   },
   "file_extension": ".py",
   "mimetype": "text/x-python",
   "name": "python",
   "nbconvert_exporter": "python",
   "pygments_lexer": "ipython3",
   "version": "3.6.1"
  },
  "toc-showcode": false
 },
 "nbformat": 4,
 "nbformat_minor": 4
}
